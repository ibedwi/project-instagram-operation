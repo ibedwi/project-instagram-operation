{
 "cells": [
  {
   "cell_type": "code",
   "execution_count": 8,
   "metadata": {},
   "outputs": [],
   "source": [
    "import requests\n",
    "import json\n",
    "\n",
    "def getLikeCount(URL_Input):\n",
    "    if URL_Input[-1] != '/':\n",
    "        URL_Input += '/'\n",
    "\n",
    "    # Specific get by 'liked_by'\n",
    "    RequestURL = URL_Input + \"liked_by\"\n",
    "    \n",
    "    # sending request\n",
    "    r = requests.get(url = RequestURL)\n",
    "    rText = r.text\n",
    "    \n",
    "    if 'edge_media_preview_like' in rText:\n",
    "        #get the initial index for 'edge_media_preview_like'\n",
    "        startPoint = rText.index('edge_media_preview_like') - 1\n",
    "        currentCharacter = rText[startPoint]\n",
    "        stringWillBeJson = ''\n",
    "        while currentCharacter != '}':\n",
    "            startPoint+=1 \n",
    "            stringWillBeJson = stringWillBeJson + currentCharacter\n",
    "            currentCharacter = rText[startPoint]\n",
    "    \n",
    "    stringWillBeJson = '{' + stringWillBeJson + '}}'\n",
    "    # parse 'stringWillBeJson'\n",
    "    user_data = json.loads(stringWillBeJson)\n",
    "    \n",
    "    likeCount = user_data[\"edge_media_preview_like\"][\"count\"]\n",
    "    print(likeCount)\n",
    "    return likeCount"
   ]
  },
  {
   "cell_type": "code",
   "execution_count": 9,
   "metadata": {},
   "outputs": [
    {
     "name": "stdout",
     "output_type": "stream",
     "text": [
      "21\n"
     ]
    },
    {
     "data": {
      "text/plain": [
       "21"
      ]
     },
     "execution_count": 9,
     "metadata": {},
     "output_type": "execute_result"
    }
   ],
   "source": [
    "getLikeCount('https://www.instagram.com/p/BtBDtfyjm7b/')"
   ]
  },
  {
   "cell_type": "code",
   "execution_count": null,
   "metadata": {},
   "outputs": [],
   "source": []
  }
 ],
 "metadata": {
  "kernelspec": {
   "display_name": "Python 3",
   "language": "python",
   "name": "python3"
  },
  "language_info": {
   "codemirror_mode": {
    "name": "ipython",
    "version": 3
   },
   "file_extension": ".py",
   "mimetype": "text/x-python",
   "name": "python",
   "nbconvert_exporter": "python",
   "pygments_lexer": "ipython3",
   "version": "3.6.5"
  }
 },
 "nbformat": 4,
 "nbformat_minor": 2
}
