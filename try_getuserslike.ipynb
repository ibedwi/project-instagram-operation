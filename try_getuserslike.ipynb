{
 "cells": [
  {
   "cell_type": "code",
   "execution_count": 1,
   "metadata": {},
   "outputs": [],
   "source": [
    "# importing the request library\n",
    "import requests"
   ]
  },
  {
   "cell_type": "code",
   "execution_count": 32,
   "metadata": {},
   "outputs": [
    {
     "name": "stdout",
     "output_type": "stream",
     "text": [
      "https://www.instagram.com/p/Bs5Hs2_nY-f/liked_by\n"
     ]
    }
   ],
   "source": [
    "# user-endpoint\n",
    "URL = \"https://www.instagram.com/p/Bs5Hs2_nY-f/\"\n",
    "\n",
    "# Specific get by 'liked_by'\n",
    "RequestURL = URL + \"liked_by\"\n",
    "\n",
    "print(RequestURL)"
   ]
  },
  {
   "cell_type": "code",
   "execution_count": 33,
   "metadata": {},
   "outputs": [],
   "source": [
    "# sending request\n",
    "r = requests.get(url = RequestURL)\n",
    "rText = r.text"
   ]
  },
  {
   "cell_type": "code",
   "execution_count": 40,
   "metadata": {},
   "outputs": [
    {
     "name": "stdout",
     "output_type": "stream",
     "text": [
      "47580\n",
      "{\"edge_media_preview_like\":{\"count\":13888,\"edges\":[]}}\n",
      "true\n"
     ]
    }
   ],
   "source": [
    "if 'edge_media_preview_like' in rText:\n",
    "    #get the initial index for 'edge_media_preview_like'\n",
    "    print(rText.index('edge_media_preview_like'))\n",
    "    startPoint = rText.index('edge_media_preview_like') - 1\n",
    "    currentCharacter = rText[startPoint]\n",
    "    stringWillBeJson = ''\n",
    "    while currentCharacter != '}':\n",
    "        startPoint+=1 \n",
    "        stringWillBeJson = stringWillBeJson + currentCharacter\n",
    "        currentCharacter = rText[startPoint]\n",
    "    \n",
    "    stringWillBeJson = '{' + stringWillBeJson + '}}'\n",
    "    print(stringWillBeJson)\n",
    "    print(\"true\")"
   ]
  },
  {
   "cell_type": "code",
   "execution_count": 46,
   "metadata": {},
   "outputs": [
    {
     "name": "stdout",
     "output_type": "stream",
     "text": [
      "13888\n"
     ]
    }
   ],
   "source": [
    "import json\n",
    "\n",
    "# parse 'stringWillBeJson'\n",
    "user_data = json.loads(stringWillBeJson)\n",
    "\n",
    "# user like count\n",
    "print(user_data[\"edge_media_preview_like\"][\"count\"])"
   ]
  },
  {
   "cell_type": "code",
   "execution_count": null,
   "metadata": {},
   "outputs": [],
   "source": []
  }
 ],
 "metadata": {
  "kernelspec": {
   "display_name": "Python 3",
   "language": "python",
   "name": "python3"
  },
  "language_info": {
   "codemirror_mode": {
    "name": "ipython",
    "version": 3
   },
   "file_extension": ".py",
   "mimetype": "text/x-python",
   "name": "python",
   "nbconvert_exporter": "python",
   "pygments_lexer": "ipython3",
   "version": "3.6.5"
  }
 },
 "nbformat": 4,
 "nbformat_minor": 2
}
